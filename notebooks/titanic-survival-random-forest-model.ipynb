{
 "cells": [
  {
   "cell_type": "markdown",
   "id": "4cfefbc8-c6da-466f-aac0-c59a1c705738",
   "metadata": {},
   "source": [
    "# Titanic Survivor Predictions using `RandomForestRegression` model"
   ]
  },
  {
   "cell_type": "markdown",
   "id": "e4c083c2-a933-4d0a-bc97-744158dbf773",
   "metadata": {},
   "source": [
    "## Import necessary libraries"
   ]
  },
  {
   "cell_type": "code",
   "execution_count": null,
   "id": "3dbc75cc-2f26-47de-8bf5-8c8d6602594d",
   "metadata": {},
   "outputs": [],
   "source": []
  }
 ],
 "metadata": {
  "kernelspec": {
   "display_name": "Python 3 (ipykernel)",
   "language": "python",
   "name": "python3"
  },
  "language_info": {
   "codemirror_mode": {
    "name": "ipython",
    "version": 3
   },
   "file_extension": ".py",
   "mimetype": "text/x-python",
   "name": "python",
   "nbconvert_exporter": "python",
   "pygments_lexer": "ipython3",
   "version": "3.12.4"
  }
 },
 "nbformat": 4,
 "nbformat_minor": 5
}
